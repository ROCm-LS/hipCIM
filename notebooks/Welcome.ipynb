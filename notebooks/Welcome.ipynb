{
 "cells": [
  {
   "cell_type": "markdown",
   "id": "9a644433-220d-4f1f-875e-2f04c5a7eb4f",
   "metadata": {},
   "source": [
    "# Welcome to hipCIM\n",
    "\n",
    "## `cucim.clara` package\n",
    "\n",
    "- [Basic Usage](Basic_Usage.ipynb)\n",
    "- [Supporting Aperio SVS Format](Supporting_Aperio_SVS_Format.ipynb)\n",
    "\n",
    "## `cucim.skimage` package\n",
    "- [Gabor Filters](gabor_example.ipynb)\n",
    "- [Random walker segmentation](random_walker_example.ipynb)\n",
    "- [Vesselness filters](vesselness_example.ipynb)\n",
    "- [Random walker segmentation](random_walker_example.ipynb)\n",
    "\n"
   ]
  },
  {
   "cell_type": "code",
   "execution_count": null,
   "id": "dce6346e-239b-418a-9204-deeccd0248a6",
   "metadata": {},
   "outputs": [],
   "source": []
  }
 ],
 "metadata": {
  "kernelspec": {
   "display_name": "Python 3 (ipykernel)",
   "language": "python",
   "name": "python3"
  },
  "language_info": {
   "codemirror_mode": {
    "name": "ipython",
    "version": 3
   },
   "file_extension": ".py",
   "mimetype": "text/x-python",
   "name": "python",
   "nbconvert_exporter": "python",
   "pygments_lexer": "ipython3",
   "version": "3.10.12"
  }
 },
 "nbformat": 4,
 "nbformat_minor": 5
}
